{
 "cells": [
  {
   "cell_type": "code",
   "execution_count": 4,
   "metadata": {
    "collapsed": true
   },
   "outputs": [],
   "source": [
    "import os, fnmatch\n",
    "\n",
    "rootdir = 'experiments'\n",
    "\n",
    "for subdirs, dirs, files in os.walk(rootdir):\n",
    "    print('q')\n",
    "    for dir in fnmatch.filter(dirs, \"Sumarios\"):\n",
    "        if not os.path.exists('output/'+subdirs):\n",
    "            os.makedirs('output/'+subdirs)\n",
    "    fe = open('output/'+subdirs+'/extrato_humano.txt', 'w+')\n",
    "    print('oi')\n",
    "    fs = open('output/'+subdirs+'/sumario_automatico_CSTSumm.txt', 'w+')\n",
    "    for file in os.listdir(os.path.join(subdirs, dir)):\n",
    "        if fnmatch.fnmatch(file, '*_extrato_humano.txt'):\n",
    "            with open(os.path.join(subdirs, dir, file), 'r') as fin:\n",
    "                  fe.write(fin.read())\n",
    "        elif fnmatch.fnmatch(file, '*_sumario_automatico_CSTSumm.txt'):\n",
    "            with open(os.path.join(subdirs, dir, file), 'r') as fin:\n",
    "                  fs.write(fin.read())"
   ]
  }
 ],
 "metadata": {
  "kernelspec": {
   "display_name": "Python 3",
   "language": "python",
   "name": "python3"
  },
  "language_info": {
   "codemirror_mode": {
    "name": "ipython",
    "version": 3
   },
   "file_extension": ".py",
   "mimetype": "text/x-python",
   "name": "python",
   "nbconvert_exporter": "python",
   "pygments_lexer": "ipython3",
   "version": "3.6.0"
  }
 },
 "nbformat": 4,
 "nbformat_minor": 1
}
