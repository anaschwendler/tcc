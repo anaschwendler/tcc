{
 "cells": [
  {
   "cell_type": "code",
   "execution_count": 5,
   "metadata": {
    "collapsed": false
   },
   "outputs": [],
   "source": [
    "import os, fnmatch\n",
    "\n",
    "rootdir = 'experiments'\n",
    "\n",
    "for subdirs, dirs, files in os.walk(rootdir):\n",
    "  for dir in fnmatch.filter(dirs, \"Textos-fonte\"):\n",
    "    if not os.path.exists('output/'+subdirs):\n",
    "      os.makedirs('output/'+subdirs)\n",
    "    f = open('output/'+subdirs+'/original.txt', 'w+')\n",
    "    for file in os.listdir(os.path.join(subdirs, dir)):\n",
    "      with open(os.path.join(subdirs, dir, file), 'r') as fin:\n",
    "        f.write(fin.read())\n",
    "    f.close"
   ]
  }
 ],
 "metadata": {
  "kernelspec": {
   "display_name": "Python [Root]",
   "language": "python",
   "name": "Python [Root]"
  },
  "language_info": {
   "codemirror_mode": {
    "name": "ipython",
    "version": 2
   },
   "file_extension": ".py",
   "mimetype": "text/x-python",
   "name": "python",
   "nbconvert_exporter": "python",
   "pygments_lexer": "ipython2",
   "version": "2.7.12"
  }
 },
 "nbformat": 4,
 "nbformat_minor": 0
}
