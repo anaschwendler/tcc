{
 "cells": [
  {
   "cell_type": "code",
   "execution_count": 78,
   "metadata": {
    "collapsed": false
   },
   "outputs": [
    {
     "ename": "ValueError",
     "evalue": "incompatible sizes: argument 'height' must be length 5 or scalar",
     "output_type": "error",
     "traceback": [
      "\u001b[1;31m---------------------------------------------------------------------------\u001b[0m",
      "\u001b[1;31mValueError\u001b[0m                                Traceback (most recent call last)",
      "\u001b[1;32m<ipython-input-78-7cd67c600635>\u001b[0m in \u001b[0;36m<module>\u001b[1;34m()\u001b[0m\n\u001b[0;32m     17\u001b[0m             'rouge_2_f_score': 0.79144, 'rouge_1_recall': 0.89474, 'rouge_su4_recall': 0.81408}\n\u001b[0;32m     18\u001b[0m \u001b[1;33m\u001b[0m\u001b[0m\n\u001b[1;32m---> 19\u001b[1;33m \u001b[0mrects1\u001b[0m \u001b[1;33m=\u001b[0m \u001b[0max\u001b[0m\u001b[1;33m.\u001b[0m\u001b[0mbar\u001b[0m\u001b[1;33m(\u001b[0m\u001b[0mind\u001b[0m\u001b[1;33m,\u001b[0m \u001b[0moriginal\u001b[0m\u001b[1;33m.\u001b[0m\u001b[0mvalues\u001b[0m\u001b[1;33m(\u001b[0m\u001b[1;33m)\u001b[0m\u001b[1;33m,\u001b[0m \u001b[0mwidth\u001b[0m\u001b[1;33m,\u001b[0m \u001b[0mcolor\u001b[0m\u001b[1;33m=\u001b[0m\u001b[1;34m'r'\u001b[0m\u001b[1;33m)\u001b[0m\u001b[1;33m\u001b[0m\u001b[0m\n\u001b[0m\u001b[0;32m     20\u001b[0m \u001b[1;33m\u001b[0m\u001b[0m\n\u001b[0;32m     21\u001b[0m cstsumm = {'rouge_su4_precision': 0.59124, 'rouge_1_precision': 0.78723, 'rouge_4_recall': 0.0, \n",
      "\u001b[1;32m/home/ana/anaconda2/lib/python2.7/site-packages/matplotlib/__init__.pyc\u001b[0m in \u001b[0;36minner\u001b[1;34m(ax, *args, **kwargs)\u001b[0m\n\u001b[0;32m   1810\u001b[0m                     warnings.warn(msg % (label_namer, func.__name__),\n\u001b[0;32m   1811\u001b[0m                                   RuntimeWarning, stacklevel=2)\n\u001b[1;32m-> 1812\u001b[1;33m             \u001b[1;32mreturn\u001b[0m \u001b[0mfunc\u001b[0m\u001b[1;33m(\u001b[0m\u001b[0max\u001b[0m\u001b[1;33m,\u001b[0m \u001b[1;33m*\u001b[0m\u001b[0margs\u001b[0m\u001b[1;33m,\u001b[0m \u001b[1;33m**\u001b[0m\u001b[0mkwargs\u001b[0m\u001b[1;33m)\u001b[0m\u001b[1;33m\u001b[0m\u001b[0m\n\u001b[0m\u001b[0;32m   1813\u001b[0m         \u001b[0mpre_doc\u001b[0m \u001b[1;33m=\u001b[0m \u001b[0minner\u001b[0m\u001b[1;33m.\u001b[0m\u001b[0m__doc__\u001b[0m\u001b[1;33m\u001b[0m\u001b[0m\n\u001b[0;32m   1814\u001b[0m         \u001b[1;32mif\u001b[0m \u001b[0mpre_doc\u001b[0m \u001b[1;32mis\u001b[0m \u001b[0mNone\u001b[0m\u001b[1;33m:\u001b[0m\u001b[1;33m\u001b[0m\u001b[0m\n",
      "\u001b[1;32m/home/ana/anaconda2/lib/python2.7/site-packages/matplotlib/axes/_axes.pyc\u001b[0m in \u001b[0;36mbar\u001b[1;34m(self, left, height, width, bottom, **kwargs)\u001b[0m\n\u001b[0;32m   2078\u001b[0m         \u001b[1;32mif\u001b[0m \u001b[0mlen\u001b[0m\u001b[1;33m(\u001b[0m\u001b[0mheight\u001b[0m\u001b[1;33m)\u001b[0m \u001b[1;33m!=\u001b[0m \u001b[0mnbars\u001b[0m\u001b[1;33m:\u001b[0m\u001b[1;33m\u001b[0m\u001b[0m\n\u001b[0;32m   2079\u001b[0m             raise ValueError(\"incompatible sizes: argument 'height' \"\n\u001b[1;32m-> 2080\u001b[1;33m                               \"must be length %d or scalar\" % nbars)\n\u001b[0m\u001b[0;32m   2081\u001b[0m         \u001b[1;32mif\u001b[0m \u001b[0mlen\u001b[0m\u001b[1;33m(\u001b[0m\u001b[0mwidth\u001b[0m\u001b[1;33m)\u001b[0m \u001b[1;33m!=\u001b[0m \u001b[0mnbars\u001b[0m\u001b[1;33m:\u001b[0m\u001b[1;33m\u001b[0m\u001b[0m\n\u001b[0;32m   2082\u001b[0m             raise ValueError(\"incompatible sizes: argument 'width' \"\n",
      "\u001b[1;31mValueError\u001b[0m: incompatible sizes: argument 'height' must be length 5 or scalar"
     ]
    },
    {
     "data": {
      "image/png": "[encoded data removed]",
      "text/plain": [
       "<matplotlib.figure.Figure at 0x7f74f8f45850>"
      ]
     },
     "metadata": {},
     "output_type": "display_data"
    }
   ],
   "source": [
    "# http://matplotlib.org/examples/api/barchart_demo.html\n",
    "import numpy as np\n",
    "import matplotlib.pyplot as plt\n",
    "%matplotlib inline\n",
    "\n",
    "N = 15\n",
    "ind = np.arange(N)  # the x locations for the groups\n",
    "width = 0.25       # the width of the bars\n",
    "\n",
    "fig = plt.figure()\n",
    "ax = fig.add_subplot(111)\n",
    "\n",
    "original = {'rouge_su4_precision': 0.82299, 'rouge_1_precision': 0.90426, 'rouge_4_recall': 0.70652, \n",
    "            'rouge_1_f_score': 0.89947, 'rouge_su4_f_score': 0.81851, 'rouge_3_recall': 0.74194, \n",
    "            'rouge_4_precision': 0.71429, 'rouge_4_f_score': 0.71038, 'rouge_2_recall': 0.78723, \n",
    "            'rouge_3_f_score': 0.74595, 'rouge_3_precision': 0.75, 'rouge_2_precision': 0.7957, \n",
    "            'rouge_2_f_score': 0.79144, 'rouge_1_recall': 0.89474, 'rouge_su4_recall': 0.81408}\n",
    "\n",
    "rects1 = ax.bar(ind, original.values(), width, color='r')\n",
    "\n",
    "cstsumm = {'rouge_su4_precision': 0.59124, 'rouge_1_precision': 0.78723, 'rouge_4_recall': 0.0, \n",
    "           'rouge_1_f_score': 0.78307, 'rouge_su4_f_score': 0.58802, 'rouge_3_recall': 0.06452, \n",
    "           'rouge_4_precision': 0.0, 'rouge_4_f_score': 0.0, 'rouge_2_recall': 0.37234, \n",
    "           'rouge_3_f_score': 0.06487, 'rouge_3_precision': 0.06522, 'rouge_2_precision': 0.37634, \n",
    "           'rouge_2_f_score': 0.37433, 'rouge_1_recall': 0.77895, 'rouge_su4_recall': 0.58484}\n",
    "\n",
    "rects2 = ax.bar(ind + width, cstsumm.values(), width, color='g')\n",
    "\n",
    "conceptsumm = {'rouge_su4_precision': 0.58856, 'rouge_1_precision': 0.78495, 'rouge_4_recall': 0.03261, \n",
    "               'rouge_1_f_score': 0.7766, 'rouge_su4_f_score': 0.58212, 'rouge_3_recall': 0.08602, \n",
    "               'rouge_4_precision': 0.03333, 'rouge_4_f_score': 0.03297, 'rouge_2_recall': 0.38298, \n",
    "               'rouge_3_f_score': 0.08695, 'rouge_3_precision': 0.08791, 'rouge_2_precision': 0.3913, \n",
    "               'rouge_2_f_score': 0.3871, 'rouge_1_recall': 0.76842, 'rouge_su4_recall': 0.57581}\n",
    "\n",
    "rects3 = ax.bar(ind + width + width, conceptsumm.values(), width, color='b')\n",
    "\n",
    "# add some text for labels, title and axes ticks\n",
    "ax.set_ylabel('Rouge mesure')\n",
    "ax.set_title('C1_experiment')\n",
    "ax.set_xticks(ind + width)\n",
    "ax.set_xticklabels(original.keys())\n",
    "\n",
    "ax.legend((rects1[0], rects2[0], rects3[0]), ('Men', 'Women', 'Third'))\n",
    "\n",
    "\n",
    "plt.show()"
   ]
  },
  {
   "cell_type": "code",
   "execution_count": 52,
   "metadata": {
    "collapsed": false
   },
   "outputs": [
    {
     "data": {
      "image/png": "[encoded data removed]",
      "text/plain": [
       "<matplotlib.figure.Figure at 0x7f74faae4150>"
      ]
     },
     "metadata": {},
     "output_type": "display_data"
    }
   ],
   "source": [
    "# http://matplotlib.org/examples/api/barchart_demo.html\n",
    "import numpy as np\n",
    "import matplotlib.pyplot as plt\n",
    "%matplotlib inline\n",
    "\n",
    "N = 15\n",
    "ind = np.arange(N)  # the x locations for the groups\n",
    "width = 0.25       # the width of the bars\n",
    "\n",
    "original = {'rouge_su4_precision': 0.82299, 'rouge_1_precision': 0.90426, 'rouge_4_recall': 0.70652, \n",
    "            'rouge_1_f_score': 0.89947, 'rouge_su4_f_score': 0.81851, 'rouge_3_recall': 0.74194, \n",
    "            'rouge_4_precision': 0.71429, 'rouge_4_f_score': 0.71038, 'rouge_2_recall': 0.78723, \n",
    "            'rouge_3_f_score': 0.74595, 'rouge_3_precision': 0.75, 'rouge_2_precision': 0.7957, \n",
    "            'rouge_2_f_score': 0.79144, 'rouge_1_recall': 0.89474, 'rouge_su4_recall': 0.81408}\n",
    "\n",
    "rects1 = plt.bar(range(len(original)), original.values(), align='center')\n",
    "# rects1 = ax.bar(ind, menMeans, width, color='r', yerr=menStd)\n",
    "\n",
    "cstsumm = {'rouge_su4_precision': 0.59124, 'rouge_1_precision': 0.78723, 'rouge_4_recall': 0.0, \n",
    "           'rouge_1_f_score': 0.78307, 'rouge_su4_f_score': 0.58802, 'rouge_3_recall': 0.06452, \n",
    "           'rouge_4_precision': 0.0, 'rouge_4_f_score': 0.0, 'rouge_2_recall': 0.37234, \n",
    "           'rouge_3_f_score': 0.06487, 'rouge_3_precision': 0.06522, 'rouge_2_precision': 0.37634, \n",
    "           'rouge_2_f_score': 0.37433, 'rouge_1_recall': 0.77895, 'rouge_su4_recall': 0.58484}\n",
    "\n",
    "rects2 = plt.bar(range(len(cstsumm)), cstsumm.values(), align='center')\n",
    "\n",
    "conceptsumm = {'rouge_su4_precision': 0.58856, 'rouge_1_precision': 0.78495, 'rouge_4_recall': 0.03261, \n",
    "               'rouge_1_f_score': 0.7766, 'rouge_su4_f_score': 0.58212, 'rouge_3_recall': 0.08602, \n",
    "               'rouge_4_precision': 0.03333, 'rouge_4_f_score': 0.03297, 'rouge_2_recall': 0.38298, \n",
    "               'rouge_3_f_score': 0.08695, 'rouge_3_precision': 0.08791, 'rouge_2_precision': 0.3913, \n",
    "               'rouge_2_f_score': 0.3871, 'rouge_1_recall': 0.76842, 'rouge_su4_recall': 0.57581}\n",
    "\n",
    "rects3 = plt.bar(range(len(conceptsumm)), conceptsumm.values(), align='center')\n",
    "\n",
    "ax.set_ylabel('Rouge mesure')\n",
    "ax.set_title('C1_experiment')\n",
    "\n",
    "locs, label = plt.xticks(range(len(original)), original.keys())\n",
    "                            \n",
    "plt.setp(label, rotation=90)\n",
    "\n",
    "plt.show()"
   ]
  }
 ],
 "metadata": {
  "kernelspec": {
   "display_name": "Python [Root]",
   "language": "python",
   "name": "Python [Root]"
  },
  "language_info": {
   "codemirror_mode": {
    "name": "ipython",
    "version": 2
   },
   "file_extension": ".py",
   "mimetype": "text/x-python",
   "name": "python",
   "nbconvert_exporter": "python",
   "pygments_lexer": "ipython2",
   "version": "2.7.12"
  }
 },
 "nbformat": 4,
 "nbformat_minor": 0
}
