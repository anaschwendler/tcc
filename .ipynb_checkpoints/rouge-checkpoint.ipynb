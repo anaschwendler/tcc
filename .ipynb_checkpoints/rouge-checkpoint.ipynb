{
 "cells": [
  {
   "cell_type": "code",
   "execution_count": null,
   "metadata": {
    "collapsed": true
   },
   "outputs": [],
   "source": [
    "# The ROUGE-1 and ROUGE-2\n",
    "# scores are based on the overlap of unigrams and bigrams (using words as tokens), respectively, between automatically-generated\n",
    "# summaries and human-generated summaries. The ROUGE-1 score solely reflects the overlap\n",
    "# in vocabulary between two summaries, whereas the ROUGE-2 score also reflects overlap in phrase choice\n",
    "# and to some extent word ordering\n",
    "# http://www.iro.umontreal.ca/~felipe/TALN2010/Xml/Papers/all/taln2010_submission_24.pdf"
   ]
  },
  {
   "cell_type": "code",
   "execution_count": 13,
   "metadata": {
    "collapsed": false
   },
   "outputs": [
    {
     "data": {
      "text/plain": [
       "0.297029702970297"
      ]
     },
     "execution_count": 13,
     "metadata": {},
     "output_type": "execute_result"
    }
   ],
   "source": [
    "import numpy as np\n",
    "uni_ref=ref_texts['A'].lower().split()\n",
    "uni_sum=summary_text.lower().split()\n",
    "\n",
    "p= len(np.intersect1d(uni_ref,uni_sum))/float(len(uni_sum))\n",
    "p"
   ]
  },
  {
   "cell_type": "code",
   "execution_count": 3,
   "metadata": {
    "collapsed": false
   },
   "outputs": [
    {
     "name": "stdout",
     "output_type": "stream",
     "text": [
      "{'rouge_su4_precision': 0.96964, 'rouge_1_precision': 0.96875, 'rouge_4_recall': 0.96774, 'rouge_1_f_score': 0.96875, 'rouge_su4_f_score': 0.96964, 'rouge_3_recall': 0.96809, 'rouge_4_precision': 0.96774, 'rouge_4_f_score': 0.96774, 'rouge_2_recall': 0.96842, 'rouge_3_f_score': 0.96809, 'rouge_3_precision': 0.96809, 'rouge_2_precision': 0.96842, 'rouge_2_f_score': 0.96842, 'rouge_1_recall': 0.96875, 'rouge_su4_recall': 0.96964}\n"
     ]
    },
    {
     "data": {
      "image/png": "[encoded data removed]",
      "text/plain": [
       "<matplotlib.figure.Figure at 0x7f2360118790>"
      ]
     },
     "metadata": {},
     "output_type": "display_data"
    }
   ],
   "source": [
    "from pyrouge import Rouge155\n",
    "from __future__ import print_function\n",
    "%matplotlib inline\n",
    "\n",
    "from __future__ import print_function\n",
    "import sys\n",
    "\n",
    "import matplotlib.pyplot as plt\n",
    "import nltk\n",
    "nltk.sent_tokenizer=nltk.data.load('tokenizers/punkt/portuguese.pickle')\n",
    "\n",
    "def remove_extra_info_from_rouge(d):\n",
    "    saida ={}\n",
    "    for key, value in d.iteritems():\n",
    "        if (\"_cb\" not in key) and (\"_ce\" not in key):\n",
    "            saida[key]=value\n",
    "    return saida\n",
    "#como usar o rouge\n",
    "# ref_texts = { 'A': open('experimentos/01/C1_original.txt', 'r').read().decode('utf-8') }\n",
    "# summary_text = open('experimentos/01/C1_extrato_wives.txt', 'r').read().decode('utf-8')\n",
    "\n",
    "ref_texts = { 'A': open('output/experiments/C31_Esportes_Jade - concordanciaCST/extrato_humano.txt', 'r').read().decode('utf-8') }\n",
    "summary_text = open('output/experiments/C31_Esportes_Jade - concordanciaCST/concept_summ.txt', 'r').read().decode('utf-8')\n",
    "\n",
    "rouge = Rouge155(rouge_home='/home/ana/anaconda2/lib/python2.7/site-packages/pyrouge/ROUGE-1.5.5', n_words=100)\n",
    "score = rouge.score_summary(summary_text, ref_texts)\n",
    "print(remove_extra_info_from_rouge(score))\n",
    "\n",
    "import matplotlib.pyplot as plt\n",
    "\n",
    "D = remove_extra_info_from_rouge(score)\n",
    "\n",
    "plt.bar(range(len(D)), D.values(), align='center')\n",
    "locs, label = plt.xticks(range(len(D)), D.keys())\n",
    "plt.setp(label, rotation=90)\n",
    "\n",
    "plt.show()\n"
   ]
  },
  {
   "cell_type": "code",
   "execution_count": 9,
   "metadata": {
    "collapsed": false,
    "scrolled": true
   },
   "outputs": [],
   "source": [
    "from pyrouge import Rouge155\n",
    "from __future__ import print_function\n",
    "%matplotlib inline\n",
    "\n",
    "from __future__ import print_function\n",
    "import sys\n",
    "import os, fnmatch\n",
    "\n",
    "import matplotlib.pyplot as plt\n",
    "import nltk\n",
    "nltk.sent_tokenizer=nltk.data.load('tokenizers/punkt/portuguese.pickle')\n",
    "\n",
    "def remove_extra_info_from_rouge(d):\n",
    "    saida ={}\n",
    "    for key, value in d.iteritems():\n",
    "        if (\"_cb\" not in key) and (\"_ce\" not in key):\n",
    "            saida[key]=value\n",
    "    return saida\n",
    "\n",
    "rootdir = 'output'\n",
    "\n",
    "for subdirs, dirs, files in os.walk(rootdir):\n",
    "  for dir in dirs:\n",
    "    for file in os.listdir(os.path.join(subdirs, dir)):\n",
    "      if fnmatch.fnmatch(file, '*original.txt'):\n",
    "        ref_texts = { 'A': open(os.path.join(subdirs, dir, 'original.txt'), 'r').read().decode('utf-8') }\n",
    "        summary_text = open(os.path.join(subdirs, dir, 'extrato_humano.txt'), 'r').read().decode('utf-8')\n",
    "        rouge = Rouge155(rouge_home='/home/ana/anaconda2/lib/python2.7/site-packages/pyrouge/ROUGE-1.5.5', n_words=100)\n",
    "        score = rouge.score_summary(summary_text, ref_texts)\n",
    "        f = open(os.path.join(subdirs, dir, 'rouge_humano.txt'), 'w+')\n",
    "        f.write(str(remove_extra_info_from_rouge(score)))"
   ]
  },
  {
   "cell_type": "code",
   "execution_count": 7,
   "metadata": {
    "collapsed": false
   },
   "outputs": [
    {
     "data": {
      "image/png": "[encoded data removed]",
      "text/plain": [
       "<matplotlib.figure.Figure at 0x7fb4ae7403d0>"
      ]
     },
     "metadata": {},
     "output_type": "display_data"
    }
   ],
   "source": [
    "import matplotlib.pyplot as plt\n",
    "\n",
    "D = remove_extra_info_from_rouge(score)\n",
    "\n",
    "plt.bar(range(len(D)), D.values(), align='center')\n",
    "locs, label = plt.xticks(range(len(D)), D.keys())\n",
    "plt.setp(label, rotation=90)\n",
    "\n",
    "plt.show()"
   ]
  },
  {
   "cell_type": "code",
   "execution_count": 7,
   "metadata": {
    "collapsed": false
   },
   "outputs": [],
   "source": [
    "from pyrouge import Rouge155\n",
    "from __future__ import print_function\n",
    "%matplotlib inline\n",
    "\n",
    "from __future__ import print_function\n",
    "import sys\n",
    "import os, fnmatch\n",
    "\n",
    "import matplotlib.pyplot as plt\n",
    "import nltk\n",
    "nltk.sent_tokenizer=nltk.data.load('tokenizers/punkt/portuguese.pickle')\n",
    "\n",
    "def remove_extra_info_from_rouge(d):\n",
    "    saida ={}\n",
    "    for key, value in d.iteritems():\n",
    "        if (\"_cb\" not in key) and (\"_ce\" not in key):\n",
    "            saida[key]=value\n",
    "    return saida\n",
    "\n",
    "rootdir = 'output'\n",
    "\n",
    "for subdirs, dirs, files in os.walk(rootdir):\n",
    "  for dir in dirs:\n",
    "    for file in os.listdir(os.path.join(subdirs, dir)):\n",
    "      if fnmatch.fnmatch(file, '*original.txt'):\n",
    "        ref_texts = { 'A': open(os.path.join(subdirs, dir, 'extrato_humano.txt'), 'r').read().decode('utf-8') }\n",
    "        summary_text = open(os.path.join(subdirs, dir, 'sumario_automatico_CSTSumm.txt'), 'r').read().decode('latin-1')\n",
    "        rouge = Rouge155(rouge_home='/home/ana/anaconda2/lib/python2.7/site-packages/pyrouge/ROUGE-1.5.5', n_words=100)\n",
    "        score = rouge.score_summary(summary_text, ref_texts)\n",
    "        f = open(os.path.join(subdirs, dir, 'rouge_CSTSUmm.txt'), 'w+')\n",
    "        f.write(str(remove_extra_info_from_rouge(score)))"
   ]
  },
  {
   "cell_type": "code",
   "execution_count": 7,
   "metadata": {
    "collapsed": false
   },
   "outputs": [
    {
     "data": {
      "image/png": "[encoded data removed]",
      "text/plain": [
       "<matplotlib.figure.Figure at 0x7faba9b9e190>"
      ]
     },
     "metadata": {},
     "output_type": "display_data"
    }
   ],
   "source": [
    "import matplotlib.pyplot as plt\n",
    "\n",
    "D = remove_extra_info_from_rouge(score)\n",
    "\n",
    "plt.bar(range(len(D)), D.values(), align='center')\n",
    "locs, label = plt.xticks(range(len(D)), D.keys())\n",
    "plt.setp(label, rotation=90)\n",
    "\n",
    "plt.show()"
   ]
  },
  {
   "cell_type": "code",
   "execution_count": 8,
   "metadata": {
    "collapsed": false,
    "scrolled": true
   },
   "outputs": [],
   "source": [
    "for subdirs, dirs, files in os.walk(rootdir):\n",
    "  for dir in dirs:\n",
    "    for file in os.listdir(os.path.join(subdirs, dir)):\n",
    "      if fnmatch.fnmatch(file, '*original.txt'):\n",
    "        ref_texts = { 'A': open(os.path.join(subdirs, dir, 'extrato_humano.txt'), 'r').read().decode('utf-8') }\n",
    "        summary_text = open(os.path.join(subdirs, dir, 'concept_summ.txt'), 'r').read().decode('latin-1')\n",
    "        rouge = Rouge155(rouge_home='/home/ana/anaconda2/lib/python2.7/site-packages/pyrouge/ROUGE-1.5.5', n_words=100)\n",
    "        score = rouge.score_summary(summary_text, ref_texts)\n",
    "        f = open(os.path.join(subdirs, dir, 'rouge_concept.txt'), 'w+')\n",
    "        f.write(str(remove_extra_info_from_rouge(score)))"
   ]
  },
  {
   "cell_type": "code",
   "execution_count": null,
   "metadata": {
    "collapsed": true
   },
   "outputs": [],
   "source": [
    "import matplotlib.pyplot as plt\n",
    "\n",
    "D = remove_extra_info_from_rouge(score)\n",
    "\n",
    "plt.bar(range(len(D)), D.values(), align='center')\n",
    "locs, label = plt.xticks(range(len(D)), D.keys())\n",
    "plt.setp(label, rotation=90)\n",
    "\n",
    "plt.show()"
   ]
  }
 ],
 "metadata": {
  "kernelspec": {
   "display_name": "Python [Root]",
   "language": "python",
   "name": "Python [Root]"
  },
  "language_info": {
   "codemirror_mode": {
    "name": "ipython",
    "version": 2
   },
   "file_extension": ".py",
   "mimetype": "text/x-python",
   "name": "python",
   "nbconvert_exporter": "python",
   "pygments_lexer": "ipython2",
   "version": "2.7.12"
  }
 },
 "nbformat": 4,
 "nbformat_minor": 0
}
