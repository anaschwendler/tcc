{
 "cells": [
  {
   "cell_type": "code",
   "execution_count": 28,
   "metadata": {
    "collapsed": false,
    "scrolled": true
   },
   "outputs": [
    {
     "name": "stdout",
     "output_type": "stream",
     "text": [
      "{'rouge_su4_precision': 0.82299, 'rouge_1_precision': 0.90426, 'rouge_4_recall': 0.70652, 'rouge_1_f_score': 0.89947, 'rouge_su4_f_score': 0.81851, 'rouge_3_recall': 0.74194, 'rouge_4_precision': 0.71429, 'rouge_4_f_score': 0.71038, 'rouge_2_recall': 0.78723, 'rouge_3_f_score': 0.74595, 'rouge_3_precision': 0.75, 'rouge_2_precision': 0.7957, 'rouge_2_f_score': 0.79144, 'rouge_1_recall': 0.89474, 'rouge_su4_recall': 0.81408}\n"
     ]
    }
   ],
   "source": [
    "from pyrouge import Rouge155\n",
    "from __future__ import print_function\n",
    "%matplotlib inline\n",
    "\n",
    "import matplotlib.pyplot as plt\n",
    "import nltk\n",
    "nltk.sent_tokenizer=nltk.data.load('tokenizers/punkt/portuguese.pickle')\n",
    "\n",
    "\n",
    "#função para extrair apenas principais métricas do rouge\n",
    "def remove_extra_info_from_rouge(d):\n",
    "    saida ={}\n",
    "    for key, value in d.iteritems():\n",
    "        if (\"_cb\" not in key) and (\"_ce\" not in key):\n",
    "            saida[key]=value\n",
    "    return saida\n",
    "\n",
    "from __future__ import print_function\n",
    "import sys\n",
    "\n",
    "#como usar o rouge\n",
    "ref_texts = { 'A': open('experimentos/01/C1_original.txt', 'r').read().decode('utf-8') }\n",
    "summary_text = open('experimentos/01/C1_extrato_humano.txt', 'r').read().decode('utf-8')\n",
    "      \n",
    "# summary_text = { 'A': open('experimentos/01/C1_extrato_humano.txt', 'r').read().decode('utf-8'),\n",
    "#                  'B': open('experimentos/01/C1_extrato_wives.txt', 'r').read().decode('utf-8'),\n",
    "#                  'C': open('experimentos/01/C1_sumario_automatico_CSTSumm.txt', 'r').read() }\n",
    "\n",
    "\n",
    "rouge = Rouge155(rouge_home='/home/ana/anaconda2/lib/python2.7/site-packages/pyrouge/ROUGE-1.5.5', n_words=100)\n",
    "score = rouge.score_summary(summary_text, ref_texts)\n",
    "print(remove_extra_info_from_rouge(score))"
   ]
  },
  {
   "cell_type": "code",
   "execution_count": 30,
   "metadata": {
    "collapsed": false
   },
   "outputs": [
    {
     "data": {
      "image/png": "[encoded data removed]",
      "text/plain": [
       "<matplotlib.figure.Figure at 0x7f879e165090>"
      ]
     },
     "metadata": {},
     "output_type": "display_data"
    }
   ],
   "source": [
    "import matplotlib.pyplot as plt\n",
    "\n",
    "D = remove_extra_info_from_rouge(score)\n",
    "\n",
    "plt.bar(range(len(D)), D.values(), align='center')\n",
    "locs, label = plt.xticks(range(len(D)), D.keys())\n",
    "plt.setp(label, rotation=90)\n",
    "\n",
    "plt.show()"
   ]
  },
  {
   "cell_type": "code",
   "execution_count": null,
   "metadata": {
    "collapsed": true
   },
   "outputs": [],
   "source": []
  },
  {
   "cell_type": "code",
   "execution_count": null,
   "metadata": {
    "collapsed": true
   },
   "outputs": [],
   "source": []
  },
  {
   "cell_type": "code",
   "execution_count": 33,
   "metadata": {
    "collapsed": false
   },
   "outputs": [
    {
     "name": "stdout",
     "output_type": "stream",
     "text": [
      "{'rouge_su4_precision': 1.0, 'rouge_1_precision': 1.0, 'rouge_4_recall': 1.0, 'rouge_1_f_score': 1.0, 'rouge_su4_f_score': 1.0, 'rouge_3_recall': 1.0, 'rouge_4_precision': 1.0, 'rouge_4_f_score': 1.0, 'rouge_2_recall': 1.0, 'rouge_3_f_score': 1.0, 'rouge_3_precision': 1.0, 'rouge_2_precision': 1.0, 'rouge_2_f_score': 1.0, 'rouge_1_recall': 1.0, 'rouge_su4_recall': 1.0}\n"
     ]
    }
   ],
   "source": [
    "#como usar o rouge\n",
    "ref_texts = { 'A': open('experimentos/01/C1_original.txt', 'r').read().decode('utf-8') }\n",
    "summary_text = open('experimentos/01/C1_extrato_wives.txt', 'r').read().decode('utf-8')\n",
    "      \n",
    "# summary_text = { 'A': open('experimentos/01/C1_extrato_humano.txt', 'r').read().decode('utf-8'),\n",
    "#                  'B': open('experimentos/01/C1_extrato_wives.txt', 'r').read().decode('utf-8'),\n",
    "#                  'C': open('experimentos/01/C1_sumario_automatico_CSTSumm.txt', 'r').read() }\n",
    "\n",
    "\n",
    "rouge = Rouge155(rouge_home='/home/ana/anaconda2/lib/python2.7/site-packages/pyrouge/ROUGE-1.5.5', n_words=100)\n",
    "score = rouge.score_summary(summary_text, ref_texts)\n",
    "print(remove_extra_info_from_rouge(score))"
   ]
  },
  {
   "cell_type": "code",
   "execution_count": 31,
   "metadata": {
    "collapsed": false
   },
   "outputs": [
    {
     "data": {
      "image/png": "[encoded data removed]",
      "text/plain": [
       "<matplotlib.figure.Figure at 0x7f879e100290>"
      ]
     },
     "metadata": {},
     "output_type": "display_data"
    }
   ],
   "source": [
    "import matplotlib.pyplot as plt\n",
    "\n",
    "D = remove_extra_info_from_rouge(score)\n",
    "\n",
    "plt.bar(range(len(D)), D.values(), align='center')\n",
    "locs, label = plt.xticks(range(len(D)), D.keys())\n",
    "plt.setp(label, rotation=90)\n",
    "\n",
    "plt.show()"
   ]
  },
  {
   "cell_type": "code",
   "execution_count": null,
   "metadata": {
    "collapsed": true
   },
   "outputs": [],
   "source": [
    "#como usar o rouge\n",
    "ref_texts = { 'A': open('experimentos/01/C1_original.txt', 'r').read().decode('utf-8') }\n",
    "summary_text = open('experimentos/01/C1_extrato_wives.txt', 'r').read().decode('utf-8')\n",
    "      \n",
    "# summary_text = { 'A': open('experimentos/01/C1_extrato_humano.txt', 'r').read().decode('utf-8'),\n",
    "#                  'B': open('experimentos/01/C1_extrato_wives.txt', 'r').read().decode('utf-8'),\n",
    "#                  'C': open('experimentos/01/C1_sumario_automatico_CSTSumm.txt', 'r').read() }\n",
    "\n",
    "\n",
    "rouge = Rouge155(rouge_home='/home/ana/anaconda2/lib/python2.7/site-packages/pyrouge/ROUGE-1.5.5', n_words=100)\n",
    "score = rouge.score_summary(summary_text, ref_texts)\n",
    "print(remove_extra_info_from_rouge(score))\n",
    "\n",
    "import matplotlib.pyplot as plt\n",
    "\n",
    "D = remove_extra_info_from_rouge(score)\n",
    "\n",
    "plt.bar(range(len(D)), D.values(), align='center')\n",
    "locs, label = plt.xticks(range(len(D)), D.keys())\n",
    "plt.setp(label, rotation=90)\n",
    "\n",
    "plt.show()"
   ]
  }
 ],
 "metadata": {
  "kernelspec": {
   "display_name": "Python [Root]",
   "language": "python",
   "name": "Python [Root]"
  },
  "language_info": {
   "codemirror_mode": {
    "name": "ipython",
    "version": 2
   },
   "file_extension": ".py",
   "mimetype": "text/x-python",
   "name": "python",
   "nbconvert_exporter": "python",
   "pygments_lexer": "ipython2",
   "version": "2.7.12"
  }
 },
 "nbformat": 4,
 "nbformat_minor": 0
}
