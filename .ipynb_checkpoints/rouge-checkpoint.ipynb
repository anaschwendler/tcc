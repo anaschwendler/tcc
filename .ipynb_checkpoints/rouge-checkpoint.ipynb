{
 "cells": [
  {
   "cell_type": "code",
   "execution_count": 44,
   "metadata": {
    "collapsed": false,
    "scrolled": true
   },
   "outputs": [
    {
     "name": "stdout",
     "output_type": "stream",
     "text": [
      "{'rouge_su4_precision': 0.8, 'rouge_1_precision': 1.0, 'rouge_4_recall': 0.0, 'rouge_1_f_score': 0.06123, 'rouge_su4_f_score': 0.01431, 'rouge_3_recall': 0.0, 'rouge_4_precision': 0.0, 'rouge_4_f_score': 0.0, 'rouge_2_recall': 0.0, 'rouge_3_f_score': 0.0, 'rouge_3_precision': 0.0, 'rouge_2_precision': 0.0, 'rouge_2_f_score': 0.0, 'rouge_1_recall': 0.03158, 'rouge_su4_recall': 0.00722}\n"
     ]
    }
   ],
   "source": [
    "from pyrouge import Rouge155\n",
    "from __future__ import print_function\n",
    "%matplotlib inline\n",
    "\n",
    "import matplotlib.pyplot as plt\n",
    "import nltk\n",
    "nltk.sent_tokenizer=nltk.data.load('tokenizers/punkt/portuguese.pickle')\n",
    "\n",
    "\n",
    "#função para extrair apenas principais métricas do rouge\n",
    "def remove_extra_info_from_rouge(d):\n",
    "    saida ={}\n",
    "    for key, value in d.iteritems():\n",
    "        if (\"_cb\" not in key) and (\"_ce\" not in key):\n",
    "            saida[key]=value\n",
    "    return saida\n",
    "\n",
    "from __future__ import print_function\n",
    "import sys\n",
    "\n",
    "#como usar o rouge\n",
    "ref_texts = { 'A': open('experimentos/01/C1_original.txt', 'r').read().decode('utf-8') }\n",
    "      \n",
    "summary_text = { 'A': open('experimentos/01/C1_extrato_humano.txt', 'r').read(),\n",
    "                 'B': open('experimentos/01/C1_extrato_wives.txt', 'r').read(),\n",
    "                 'C': open('experimentos/01/C1_sumario_automatico_CSTSumm.txt', 'r').read() }\n",
    "\n",
    "\n",
    "rouge = Rouge155(rouge_home='/home/ana/anaconda2/lib/python2.7/site-packages/pyrouge/ROUGE-1.5.5', n_words=100)\n",
    "score = rouge.score_summary(summary_text, ref_texts)\n",
    "print(remove_extra_info_from_rouge(score))"
   ]
  },
  {
   "cell_type": "code",
   "execution_count": null,
   "metadata": {
    "collapsed": true
   },
   "outputs": [],
   "source": []
  }
 ],
 "metadata": {
  "kernelspec": {
   "display_name": "Python [Root]",
   "language": "python",
   "name": "Python [Root]"
  },
  "language_info": {
   "codemirror_mode": {
    "name": "ipython",
    "version": 2
   },
   "file_extension": ".py",
   "mimetype": "text/x-python",
   "name": "python",
   "nbconvert_exporter": "python",
   "pygments_lexer": "ipython2",
   "version": "2.7.12"
  }
 },
 "nbformat": 4,
 "nbformat_minor": 0
}
